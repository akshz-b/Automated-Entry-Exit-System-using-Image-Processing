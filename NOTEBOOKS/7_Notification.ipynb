{
  "cells": [
    {
      "cell_type": "code",
      "execution_count": 2,
      "metadata": {
        "colab": {
          "base_uri": "https://localhost:8080/"
        },
        "id": "tdFu8p7ooZoj",
        "outputId": "94d045f0-faab-4150-dd3b-82e933ecb15d"
      },
      "outputs": [
        {
          "name": "stdout",
          "output_type": "stream",
          "text": [
            "Email sent successfully!\n"
          ]
        }
      ],
      "source": [
        "import smtplib\n",
        "from email.mime.text import MIMEText\n",
        "\n",
        "# Email configuration\n",
        "sender_email = \"ritikkoshta29@gmail.com\"\n",
        "receiver_email = \"r.dekosha@gmail.com\"\n",
        "password = \"hwzi evcs ujdr incq\"  # You need to provide your email password\n",
        "\n",
        "# Create message\n",
        "message = \"\"\"\\\n",
        "Subject: Alert\n",
        "\n",
        "The Entry Gate will be closed in an hr.\n",
        "\"\"\"\n",
        "\n",
        "# Send the email\n",
        "try:\n",
        "    server = smtplib.SMTP('smtp.gmail.com', 587)\n",
        "    server.starttls()\n",
        "    server.login(sender_email, password)\n",
        "    server.sendmail(sender_email, receiver_email, message)\n",
        "    server.quit()\n",
        "    print(\"Email sent successfully!\")\n",
        "except Exception as e:\n",
        "    print(\"Failed to send email:\", str(e))\n"
      ]
    }
  ],
  "metadata": {
    "colab": {
      "provenance": []
    },
    "kernelspec": {
      "display_name": "Python 3",
      "name": "python3"
    },
    "language_info": {
      "codemirror_mode": {
        "name": "ipython",
        "version": 3
      },
      "file_extension": ".py",
      "mimetype": "text/x-python",
      "name": "python",
      "nbconvert_exporter": "python",
      "pygments_lexer": "ipython3",
      "version": "3.11.4"
    }
  },
  "nbformat": 4,
  "nbformat_minor": 0
}
