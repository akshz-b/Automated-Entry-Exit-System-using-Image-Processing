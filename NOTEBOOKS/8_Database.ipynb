{
  "cells": [
    {
      "cell_type": "code",
      "execution_count": null,
      "metadata": {
        "colab": {
          "base_uri": "https://localhost:8080/"
        },
        "id": "eJfTT4Dkbt0J",
        "outputId": "74f7eb71-8215-4f4f-bf43-af61b0f7ca38"
      },
      "outputs": [
        {
          "name": "stdout",
          "output_type": "stream",
          "text": [
            "Reading package lists... Done\n",
            "Building dependency tree... Done\n",
            "Reading state information... Done\n",
            "Suggested packages:\n",
            "  sqlite3-doc\n",
            "The following NEW packages will be installed:\n",
            "  sqlite3\n",
            "0 upgraded, 1 newly installed, 0 to remove and 45 not upgraded.\n",
            "Need to get 768 kB of archives.\n",
            "After this operation, 1,873 kB of additional disk space will be used.\n",
            "Get:1 http://archive.ubuntu.com/ubuntu jammy-updates/main amd64 sqlite3 amd64 3.37.2-2ubuntu0.3 [768 kB]\n",
            "Fetched 768 kB in 0s (5,858 kB/s)\n",
            "Selecting previously unselected package sqlite3.\n",
            "(Reading database ... 121753 files and directories currently installed.)\n",
            "Preparing to unpack .../sqlite3_3.37.2-2ubuntu0.3_amd64.deb ...\n",
            "Unpacking sqlite3 (3.37.2-2ubuntu0.3) ...\n",
            "Setting up sqlite3 (3.37.2-2ubuntu0.3) ...\n",
            "Processing triggers for man-db (2.10.2-1) ...\n"
          ]
        }
      ],
      "source": [
        "!apt-get install sqlite3\n"
      ]
    },
    {
      "cell_type": "code",
      "execution_count": null,
      "metadata": {
        "colab": {
          "base_uri": "https://localhost:8080/"
        },
        "id": "jSzxadVHcJ0h",
        "outputId": "7f579cb7-ebc8-42c7-a027-56c79713c6da"
      },
      "outputs": [
        {
          "name": "stdout",
          "output_type": "stream",
          "text": [
            "Database and schema created successfully.\n"
          ]
        }
      ],
      "source": [
        "import sqlite3\n",
        "\n",
        "# Connect to SQLite database (or create it if it doesn't exist)\n",
        "conn = sqlite3.connect('Database.db')\n",
        "\n",
        "# Create a cursor object\n",
        "cursor = conn.cursor()\n",
        "\n",
        "# Define the schema and create the table\n",
        "schema = \"\"\"\n",
        "CREATE TABLE IF NOT EXISTS Students (\n",
        "    RollNo INTEGER PRIMARY KEY,\n",
        "    Name TEXT,\n",
        "    ValidUpto TEXT,\n",
        "    Branch TEXT,\n",
        "    Course TEXT,\n",
        "    MailId TEXT,\n",
        "    MobileNumber INTEGER\n",
        ");\n",
        "\"\"\"\n",
        "cursor.execute(schema)\n",
        "\n",
        "# Commit changes and close the connection\n",
        "conn.commit()\n",
        "conn.close()\n",
        "\n",
        "print(\"Database and schema created successfully.\")\n"
      ]
    },
    {
      "cell_type": "code",
      "execution_count": null,
      "metadata": {
        "colab": {
          "base_uri": "https://localhost:8080/"
        },
        "id": "Ga9_BZXteGX9",
        "outputId": "36cfd9b1-3f01-429a-d8ea-a8845e915be8"
      },
      "outputs": [
        {
          "name": "stdout",
          "output_type": "stream",
          "text": [
            "Collecting Faker\n",
            "  Downloading Faker-24.4.0-py3-none-any.whl (1.8 MB)\n",
            "\u001b[?25l     \u001b[90m━━━━━━━━━━━━━━━━━━━━━━━━━━━━━━━━━━━━━━━━\u001b[0m \u001b[32m0.0/1.8 MB\u001b[0m \u001b[31m?\u001b[0m eta \u001b[36m-:--:--\u001b[0m\r\u001b[2K     \u001b[91m━━━━\u001b[0m\u001b[91m╸\u001b[0m\u001b[90m━━━━━━━━━━━━━━━━━━━━━━━━━━━━━━━━━━━\u001b[0m \u001b[32m0.2/1.8 MB\u001b[0m \u001b[31m6.2 MB/s\u001b[0m eta \u001b[36m0:00:01\u001b[0m\r\u001b[2K     \u001b[91m━━━━━━━━━━━━━━━━━━━━━━━━━━━━━━━━━━━━━━━\u001b[0m\u001b[91m╸\u001b[0m \u001b[32m1.8/1.8 MB\u001b[0m \u001b[31m30.1 MB/s\u001b[0m eta \u001b[36m0:00:01\u001b[0m\r\u001b[2K     \u001b[90m━━━━━━━━━━━━━━━━━━━━━━━━━━━━━━━━━━━━━━━━\u001b[0m \u001b[32m1.8/1.8 MB\u001b[0m \u001b[31m24.0 MB/s\u001b[0m eta \u001b[36m0:00:00\u001b[0m\n",
            "\u001b[?25hRequirement already satisfied: python-dateutil>=2.4 in /usr/local/lib/python3.10/dist-packages (from Faker) (2.8.2)\n",
            "Requirement already satisfied: six>=1.5 in /usr/local/lib/python3.10/dist-packages (from python-dateutil>=2.4->Faker) (1.16.0)\n",
            "Installing collected packages: Faker\n",
            "Successfully installed Faker-24.4.0\n"
          ]
        }
      ],
      "source": [
        "!pip install Faker"
      ]
    },
    {
      "cell_type": "code",
      "execution_count": null,
      "metadata": {
        "colab": {
          "base_uri": "https://localhost:8080/"
        },
        "id": "_qXU_3tfd1X9",
        "outputId": "308495e3-4266-4dd1-92c4-8af350eaf555"
      },
      "outputs": [
        {
          "name": "stdout",
          "output_type": "stream",
          "text": [
            "49 entries added successfully.\n"
          ]
        }
      ],
      "source": [
        "import sqlite3\n",
        "from faker import Faker\n",
        "\n",
        "# Connect to SQLite database\n",
        "conn = sqlite3.connect('Database.db')\n",
        "cursor = conn.cursor()\n",
        "\n",
        "# Define the number of entries to add\n",
        "num_entries = 49\n",
        "\n",
        "# Define the initial roll number and increment\n",
        "initial_roll_no = 23410102\n",
        "roll_no_increment = 1\n",
        "\n",
        "# Create a Faker object to generate random data\n",
        "fake = Faker()\n",
        "\n",
        "# Insert entries into the Students table\n",
        "for i in range(num_entries):\n",
        "    # Generate random data\n",
        "    name = fake.name()\n",
        "    valid_upto = fake.date_time_this_decade().strftime(\"%B - %Y\")\n",
        "    branch = fake.random_element(elements=('CSE', 'ECE', 'ME', 'EE', 'CE'))\n",
        "    course = fake.random_element(elements=('B.Tech', 'M.Tech', 'PhD'))\n",
        "    mail_id = fake.email()\n",
        "    mobile_number = fake.random_number(digits=10)\n",
        "\n",
        "    entry = (initial_roll_no + i*roll_no_increment, name, valid_upto, branch, course, mail_id, mobile_number)\n",
        "    insert_query = \"INSERT INTO Students (RollNo, Name, ValidUpto, Branch, Course, MailId, MobileNumber) VALUES (?, ?, ?, ?, ?, ?, ?)\"\n",
        "    cursor.execute(insert_query, entry)\n",
        "\n",
        "# Commit changes and close the connection\n",
        "conn.commit()\n",
        "conn.close()\n",
        "\n",
        "print(f\"{num_entries} entries added successfully.\")"
      ]
    },
    {
      "cell_type": "code",
      "execution_count": null,
      "metadata": {
        "colab": {
          "base_uri": "https://localhost:8080/"
        },
        "id": "XkzriEZPeTnM",
        "outputId": "9024cc96-63d2-4fc5-edc9-a43b211103d4"
      },
      "outputs": [
        {
          "name": "stdout",
          "output_type": "stream",
          "text": [
            "(23410102, 'Kelly Taylor', 'March - 2020', 'EE', 'M.Tech', 'evan76@example.net', 4252276563)\n",
            "(23410103, 'Mikayla Miller', 'September - 2021', 'CSE', 'B.Tech', 'fisherkaitlyn@example.com', 2130997144)\n",
            "(23410104, 'Christopher Scott', 'January - 2020', 'ME', 'M.Tech', 'juliemills@example.org', 5185178092)\n",
            "(23410105, 'Kenneth Lopez', 'April - 2021', 'CE', 'M.Tech', 'oacosta@example.net', 5954193025)\n",
            "(23410106, 'Micheal Campbell', 'August - 2020', 'CE', 'B.Tech', 'james68@example.net', 3695473891)\n",
            "(23410107, 'Robert Johnson', 'October - 2022', 'EE', 'M.Tech', 'matthew84@example.com', 234831143)\n",
            "(23410108, 'Alan Miller', 'November - 2022', 'CE', 'B.Tech', 'rbowman@example.org', 6250324967)\n",
            "(23410109, 'Kathleen Casey', 'March - 2021', 'CE', 'M.Tech', 'pinedasherri@example.com', 5763071654)\n",
            "(23410110, 'Dakota Rodriguez', 'September - 2023', 'CE', 'PhD', 'hurleysamuel@example.org', 8209752567)\n",
            "(23410111, 'Cristina Daniels', 'August - 2022', 'EE', 'PhD', 'chicks@example.net', 9924017322)\n",
            "(23410112, 'Aaron Sexton', 'September - 2023', 'CSE', 'PhD', 'brownsarah@example.net', 4300370666)\n",
            "(23410113, 'Christina Valentine', 'July - 2023', 'EE', 'PhD', 'mccoyterri@example.org', 9985804254)\n",
            "(23410114, 'Danny Rivera', 'April - 2021', 'EE', 'M.Tech', 'pughanthony@example.com', 3051781452)\n",
            "(23410115, 'Kenneth Chambers', 'March - 2021', 'ME', 'M.Tech', 'theresa51@example.org', 155199239)\n",
            "(23410116, 'Eddie Smith', 'October - 2022', 'ME', 'PhD', 'morganadam@example.net', 4331918780)\n",
            "(23410117, 'Jennifer Navarro', 'July - 2023', 'ME', 'PhD', 'michael68@example.net', 1996323511)\n",
            "(23410118, 'Nancy Quinn', 'October - 2020', 'CSE', 'PhD', 'clarkcynthia@example.org', 514275014)\n",
            "(23410119, 'Kelly Dodson', 'April - 2020', 'CE', 'B.Tech', 'pughmichelle@example.org', 4568812444)\n",
            "(23410120, 'Daniel Johnson', 'September - 2020', 'ME', 'B.Tech', 'tabithaowens@example.com', 6913520822)\n",
            "(23410121, 'Casey Campbell', 'December - 2023', 'ME', 'B.Tech', 'timothybarron@example.com', 4136842576)\n",
            "(23410122, 'Kathryn Hester', 'July - 2022', 'CSE', 'B.Tech', 'baldwindana@example.org', 7134246938)\n",
            "(23410123, 'Ann Powers', 'December - 2023', 'CE', 'PhD', 'knightkristin@example.org', 7809286539)\n",
            "(23410124, 'Jared Richard', 'August - 2020', 'ECE', 'PhD', 'allison15@example.net', 3772948719)\n",
            "(23410125, 'Melissa Banks', 'August - 2023', 'CE', 'PhD', 'timothy61@example.net', 4675410737)\n",
            "(23410126, 'Maxwell Carter', 'February - 2024', 'ME', 'B.Tech', 'davidjohnson@example.net', 6809827608)\n",
            "(23410127, 'Vincent Todd', 'June - 2020', 'ME', 'M.Tech', 'aaron64@example.com', 5120818745)\n",
            "(23410128, 'Peter Wells', 'July - 2020', 'CSE', 'M.Tech', 'michael86@example.org', 4905684411)\n",
            "(23410129, 'Jack Cervantes', 'May - 2021', 'CSE', 'B.Tech', 'jbarr@example.net', 4705375357)\n",
            "(23410130, 'Mary Atkins', 'November - 2020', 'ME', 'PhD', 'smithderek@example.net', 605078341)\n",
            "(23410131, 'Shelly Gallegos', 'January - 2022', 'CSE', 'M.Tech', 'carsonmarisa@example.net', 5807772186)\n",
            "(23410132, 'Phillip Dunn', 'October - 2022', 'ME', 'PhD', 'sarahhughes@example.com', 4198458864)\n",
            "(23410133, 'William Williams', 'April - 2021', 'CSE', 'PhD', 'markjenkins@example.com', 5370413381)\n",
            "(23410134, 'Dr. Dylan Dixon MD', 'July - 2020', 'CSE', 'B.Tech', 'alexis48@example.org', 423761304)\n",
            "(23410135, 'Elizabeth Farley', 'January - 2024', 'ECE', 'M.Tech', 'ernest71@example.com', 3706439854)\n",
            "(23410136, 'Michael Gomez', 'September - 2021', 'CE', 'B.Tech', 'dnewton@example.org', 3843085072)\n",
            "(23410137, 'Andrea Perez', 'February - 2021', 'ME', 'PhD', 'lgreen@example.com', 7499353689)\n",
            "(23410138, 'Benjamin Hester', 'April - 2022', 'CE', 'PhD', 'reyesashley@example.net', 7337812479)\n",
            "(23410139, 'Kristina Hunter', 'July - 2023', 'EE', 'M.Tech', 'garciacynthia@example.com', 2886130557)\n",
            "(23410140, 'Joshua Bailey', 'June - 2022', 'CSE', 'PhD', 'nthomas@example.com', 7683381585)\n",
            "(23410141, 'Bryan Harris', 'September - 2022', 'CE', 'B.Tech', 'hmitchell@example.net', 2983820722)\n",
            "(23410142, 'Mitchell Murray', 'September - 2021', 'ECE', 'B.Tech', 'qdawson@example.net', 2315732139)\n",
            "(23410143, 'Samantha Ramos', 'February - 2021', 'ECE', 'M.Tech', 'krystal91@example.net', 5323876610)\n",
            "(23410144, 'Emily Davis', 'October - 2020', 'CE', 'M.Tech', 'nancy80@example.net', 2291243026)\n",
            "(23410145, 'Brian Ray', 'May - 2021', 'CE', 'M.Tech', 'martinezjeremy@example.com', 2360829253)\n",
            "(23410146, 'Carrie Ray', 'April - 2021', 'ECE', 'M.Tech', 'cruzmiranda@example.net', 9476948881)\n",
            "(23410147, 'Victoria Raymond', 'March - 2021', 'ME', 'B.Tech', 'joseph96@example.com', 3595106519)\n",
            "(23410148, 'Andrea Grant', 'July - 2021', 'EE', 'B.Tech', 'keith16@example.com', 4568791240)\n",
            "(23410149, 'Jennifer Barnes', 'December - 2022', 'CE', 'PhD', 'kleinshelia@example.net', 5961278746)\n",
            "(23410150, 'David Turner', 'May - 2022', 'ECE', 'PhD', 'brandon92@example.org', 3540681242)\n"
          ]
        }
      ],
      "source": [
        "# Connect to SQLite database\n",
        "conn = sqlite3.connect('Database.db')\n",
        "cursor = conn.cursor()\n",
        "\n",
        "# Execute SELECT query to fetch all entries\n",
        "select_query = \"SELECT * FROM Students\"\n",
        "cursor.execute(select_query)\n",
        "\n",
        "# Fetch all rows\n",
        "rows = cursor.fetchall()\n",
        "\n",
        "# Print the fetched rows\n",
        "for row in rows:\n",
        "    print(row)\n",
        "\n",
        "# Close the connection\n",
        "conn.close()"
      ]
    }
  ],
  "metadata": {
    "colab": {
      "provenance": []
    },
    "kernelspec": {
      "display_name": "Python 3",
      "name": "python3"
    },
    "language_info": {
      "name": "python",
      "version": "3.11.4"
    }
  },
  "nbformat": 4,
  "nbformat_minor": 0
}
