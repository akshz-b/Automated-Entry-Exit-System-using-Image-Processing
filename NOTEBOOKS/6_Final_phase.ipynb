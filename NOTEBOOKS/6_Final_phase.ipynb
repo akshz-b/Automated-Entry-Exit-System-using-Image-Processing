{
  "cells": [
    {
      "cell_type": "code",
      "execution_count": 1,
      "metadata": {},
      "outputs": [],
      "source": [
        "# pip install openpyxl\n"
      ]
    },
    {
      "cell_type": "code",
      "execution_count": 2,
      "metadata": {
        "id": "W7mr8h55qU6q"
      },
      "outputs": [],
      "source": [
        "import openpyxl\n",
        "from datetime import datetime\n",
        "import os.path\n",
        "import sqlite3"
      ]
    },
    {
      "cell_type": "code",
      "execution_count": 3,
      "metadata": {
        "id": "_GARkz8aqXxl"
      },
      "outputs": [],
      "source": [
        "def create_or_read_excel_sheet():\n",
        "    today = datetime.now().strftime(\"%Y-%m-%d\")\n",
        "    excel_file_name = f\"data_{today}.xlsx\"\n",
        "\n",
        "    if os.path.isfile(excel_file_name):\n",
        "        # If file exists, open it\n",
        "        wb = openpyxl.load_workbook(excel_file_name)\n",
        "        sheet = wb.active\n",
        "        print(f\"Reading existing Excel sheet: {excel_file_name}\")\n",
        "    else:\n",
        "        # If file doesn't exist, create a new one\n",
        "        wb = openpyxl.Workbook()\n",
        "        sheet = wb.active\n",
        "        sheet.append([\"Roll No\", \"Name\", \"Valid Upto\", \"Entry Time\", \"Branch\", \"Course\", \"Status\", \"Mobile Number\", \"Mail Id\"])\n",
        "        print(f\"Creating new Excel sheet: {excel_file_name}\")\n",
        "\n",
        "    return wb, sheet"
      ]
    },
    {
      "cell_type": "code",
      "execution_count": 4,
      "metadata": {
        "id": "Q3qBhNvfqaPQ"
      },
      "outputs": [],
      "source": [
        "def add_data_to_sheet(sheet, roll_no, name, valid_upto, entry_time, branch, course, status, mobile_number, mail_id):\n",
        "    sheet.append([roll_no, name, valid_upto, entry_time, branch, course, status, mobile_number, mail_id])"
      ]
    },
    {
      "cell_type": "code",
      "execution_count": 5,
      "metadata": {
        "id": "dvKRii_JqclG"
      },
      "outputs": [],
      "source": [
        "def get_entry_exit_status(sheet, roll_no):\n",
        "    count = 0\n",
        "    for row in sheet.iter_rows(values_only=True):\n",
        "        if row[0] == roll_no:\n",
        "            count += 1\n",
        "    if count % 2 == 0:\n",
        "        return \"Exit\"\n",
        "    else:\n",
        "        return \"Enter\""
      ]
    },
    {
      "cell_type": "code",
      "execution_count": 9,
      "metadata": {
        "id": "w8lkYOCBqfEr"
      },
      "outputs": [],
      "source": [
        "def get_data_from_database(roll_no):\n",
        "    conn = sqlite3.connect(r\"E:\\IPML\\SQL_Database\\Database.db\")\n",
        "    cursor = conn.cursor()\n",
        "\n",
        "    # Execute SELECT query to fetch data\n",
        "    select_query = f\"SELECT MailId, MobileNumber FROM Students WHERE RollNo = '{roll_no}'\"\n",
        "    cursor.execute(select_query)\n",
        "\n",
        "    # Fetch the first row\n",
        "    row = cursor.fetchone()\n",
        "    conn.close()\n",
        "\n",
        "    return row"
      ]
    },
    {
      "cell_type": "code",
      "execution_count": 7,
      "metadata": {
        "id": "cegiKG20qoIW"
      },
      "outputs": [],
      "source": [
        "def main():\n",
        "    wb, sheet = create_or_read_excel_sheet()\n",
        "    roll_no = 234101045\n",
        "    name = \"RITIK KUMAR KOSHTA\"\n",
        "    valid_upto = \"July- 2025\"\n",
        "    entry_time = \"19:22:25\"\n",
        "    branch = \"CSE\"\n",
        "    course = \"MTech\"\n",
        "\n",
        "    mobile_number= \"none\"\n",
        "    mail_id= \"none\"\n",
        "\n",
        "    # Fetch data from database\n",
        "    db_data = get_data_from_database(roll_no)\n",
        "    if db_data:\n",
        "         mail_id, mobile_number = db_data\n",
        "    else:\n",
        "        print(\"NO ID FOUND in the database.\")\n",
        "\n",
        "    status = get_entry_exit_status(sheet, roll_no)\n",
        "    add_data_to_sheet(sheet, roll_no, name, valid_upto, entry_time, branch, course, status, mobile_number, mail_id)\n",
        "\n",
        "    # Save the workbook\n",
        "    wb.save(f\"data_{datetime.now().strftime('%Y-%m-%d')}.xlsx\")\n",
        "    print(\"Data added successfully.\")"
      ]
    },
    {
      "cell_type": "code",
      "execution_count": 13,
      "metadata": {
        "colab": {
          "base_uri": "https://localhost:8080/"
        },
        "id": "121BlyX7qpAn",
        "outputId": "0fe3a564-b667-47c6-f506-ed3e012fd74d"
      },
      "outputs": [
        {
          "name": "stdout",
          "output_type": "stream",
          "text": [
            "Reading existing Excel sheet: data_2024-04-30.xlsx\n",
            "Data added successfully.\n"
          ]
        }
      ],
      "source": [
        "if __name__ == \"__main__\":\n",
        "    main()"
      ]
    }
  ],
  "metadata": {
    "colab": {
      "provenance": []
    },
    "kernelspec": {
      "display_name": "Python 3",
      "name": "python3"
    },
    "language_info": {
      "codemirror_mode": {
        "name": "ipython",
        "version": 3
      },
      "file_extension": ".py",
      "mimetype": "text/x-python",
      "name": "python",
      "nbconvert_exporter": "python",
      "pygments_lexer": "ipython3",
      "version": "3.11.4"
    }
  },
  "nbformat": 4,
  "nbformat_minor": 0
}
